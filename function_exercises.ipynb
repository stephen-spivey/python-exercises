{
 "cells": [
  {
   "cell_type": "code",
   "execution_count": 5,
   "id": "01ff33dd-fe68-4269-bb15-d8a506301dc3",
   "metadata": {
    "tags": []
   },
   "outputs": [],
   "source": [
    "# 1. Define a function named is_two. It should accept one input and return True if the passed input is either \n",
    "# the number or the string 2, False otherwise.\n",
    "def is_two(n):  # creating the function\n",
    "    if n == '2' or n == 2:\n",
    "        return True\n",
    "    else:\n",
    "        return False"
   ]
  },
  {
   "cell_type": "code",
   "execution_count": 22,
   "id": "a2fe92be-d553-4aef-a6bd-5e2bed4cd3a3",
   "metadata": {
    "tags": []
   },
   "outputs": [
    {
     "data": {
      "text/plain": [
       "True"
      ]
     },
     "execution_count": 22,
     "metadata": {},
     "output_type": "execute_result"
    }
   ],
   "source": [
    "# calling the function\n",
    "is_two(2)"
   ]
  },
  {
   "cell_type": "code",
   "execution_count": 43,
   "id": "cac2911b-f290-47d6-b98c-97477c59a4e0",
   "metadata": {
    "tags": []
   },
   "outputs": [],
   "source": [
    "# 2. Define a function named is_vowel. It should return True if the passed string is a vowel, False otherwise.\n",
    "def is_vowel(letter):\n",
    "    if letter in ['A','E','I','O','U','a','e','i','o','u']:\n",
    "        return True\n",
    "    else:\n",
    "        return False"
   ]
  },
  {
   "cell_type": "code",
   "execution_count": 45,
   "id": "892790a1-d6f8-41c3-855b-8834366c5764",
   "metadata": {
    "tags": []
   },
   "outputs": [
    {
     "data": {
      "text/plain": [
       "True"
      ]
     },
     "execution_count": 45,
     "metadata": {},
     "output_type": "execute_result"
    }
   ],
   "source": [
    "is_vowel('a')"
   ]
  },
  {
   "cell_type": "code",
   "execution_count": 127,
   "id": "a42ca3dc-5e03-4ccc-ad4d-7479e6146778",
   "metadata": {
    "tags": []
   },
   "outputs": [],
   "source": [
    "# 3. Define a function named is_consonant. It should return True if the passed string is a consonant, \n",
    "# False otherwise. Use your is_vowel function to accomplish this.\n",
    "def is_consonant(somestring):\n",
    "    \n",
    "    \"\"\"\n",
    "    This function will:\n",
    "    - initially check the input in a string\n",
    "        - and 1 char long\n",
    "        - and a letter\n",
    "            - if true, returns the opposite of is_vowel, using the NOT operator\n",
    "            - False otherwise\n",
    "    - returns False if not a strong\n",
    "    \"\"\"\n",
    "    if type(somestring) == str:\n",
    "        if len(somestring) == 1 and somestring.isalpha():\n",
    "            return (not is_vowel(somestring))\n",
    "        else:\n",
    "            return False\n",
    "    else:\n",
    "        return False"
   ]
  },
  {
   "cell_type": "code",
   "execution_count": 129,
   "id": "faab0676-cb80-4647-9078-2499233d288c",
   "metadata": {
    "tags": []
   },
   "outputs": [
    {
     "data": {
      "text/plain": [
       "False"
      ]
     },
     "execution_count": 129,
     "metadata": {},
     "output_type": "execute_result"
    }
   ],
   "source": [
    "is_consonant('a')"
   ]
  },
  {
   "cell_type": "code",
   "execution_count": 109,
   "id": "b712cd05-7211-45f3-a9da-5006d70106f9",
   "metadata": {
    "tags": []
   },
   "outputs": [
    {
     "data": {
      "text/plain": [
       "'S'"
      ]
     },
     "execution_count": 109,
     "metadata": {},
     "output_type": "execute_result"
    }
   ],
   "source": [
    "# 4. Define a function that accepts a string that is a word. The function should capitalize the first letter \n",
    "# of the word if the word starts with a consonant.\n",
    "\n",
    "def cap_consonant(word):\n",
    "    # checks first letter not equal to vowels\n",
    "    if word[0] != 'a' or 'e' or 'i' or'o' or 'u':   \n",
    "        # returns first letter of word in upper case\n",
    "        return word[0].upper()   \n",
    "    else:\n",
    "        return word\n",
    "        \n",
    "cap_consonant('soon')"
   ]
  },
  {
   "cell_type": "code",
   "execution_count": 88,
   "id": "6d24852d-f28d-4762-9c8a-d768c5e2dff9",
   "metadata": {
    "tags": []
   },
   "outputs": [
    {
     "name": "stdout",
     "output_type": "stream",
     "text": [
      "The tip amount is: $ 4.4075999999999995\n"
     ]
    }
   ],
   "source": [
    "# 5. Define a function named calculate_tip. It should accept a tip percentage (a number between 0 and 1) \n",
    "# and the bill total, and return the amount to tip.\n",
    "def calculate_tip(tip_pct,bill_total):\n",
    "    tip_amount = tip_pct * bill_total\n",
    "    print(f'The tip amount is: $ {tip_amount}')\n",
    "    \n",
    "calculate_tip(.12, 36.73)"
   ]
  },
  {
   "cell_type": "code",
   "execution_count": null,
   "id": "c87756ed-cb09-47ee-91f6-e80b09d77f97",
   "metadata": {},
   "outputs": [],
   "source": [
    "# 6. Define a function named apply_discount. It should accept a original price, and a discount percentage, \n",
    "# and return the price after the discount is applied."
   ]
  },
  {
   "cell_type": "code",
   "execution_count": 93,
   "id": "360f42ac-cb14-4a86-8840-2d8b14659310",
   "metadata": {
    "tags": []
   },
   "outputs": [
    {
     "name": "stdout",
     "output_type": "stream",
     "text": [
      "The discounted price is: $42.5\n"
     ]
    }
   ],
   "source": [
    "def apply_discount(ori_price,disc_pct):\n",
    "    new_price = ori_price - (ori_price * disc_pct)\n",
    "    print(f'The discounted price is: ${new_price}')\n",
    "          \n",
    "apply_discount(50.00, .15)"
   ]
  },
  {
   "cell_type": "code",
   "execution_count": null,
   "id": "ddc6d531-f7fb-44f7-9ae3-f02af52980e8",
   "metadata": {},
   "outputs": [],
   "source": [
    "# 7. Define a function named handle_commas. It should accept a string that is a number that contains commas \n",
    "# in it as input, and return a number as output."
   ]
  },
  {
   "cell_type": "code",
   "execution_count": 114,
   "id": "09ad77cb-a23a-4652-8b59-d3d1244b8ac4",
   "metadata": {
    "tags": []
   },
   "outputs": [
    {
     "ename": "TypeError",
     "evalue": "handle_commas() takes 1 positional argument but 3 were given",
     "output_type": "error",
     "traceback": [
      "\u001b[0;31m---------------------------------------------------------------------------\u001b[0m",
      "\u001b[0;31mTypeError\u001b[0m                                 Traceback (most recent call last)",
      "Cell \u001b[0;32mIn[114], line 5\u001b[0m\n\u001b[1;32m      2\u001b[0m     new_num \u001b[38;5;241m=\u001b[39m \u001b[38;5;28mint\u001b[39m(num_str)\n\u001b[1;32m      3\u001b[0m     \u001b[38;5;28mprint\u001b[39m(new_num)\n\u001b[0;32m----> 5\u001b[0m handle_commas(\u001b[38;5;241m1\u001b[39m,\u001b[38;5;241m375\u001b[39m,\u001b[38;5;241m567\u001b[39m)\n",
      "\u001b[0;31mTypeError\u001b[0m: handle_commas() takes 1 positional argument but 3 were given"
     ]
    }
   ],
   "source": [
    "def handle_commas(num_str):\n",
    "    if type(num_str == str:\n",
    "        strip_num_str = num_str.replace(\",\", \"\")\n",
    "        if strip_num_str.isdigit():\n",
    "    return  \n",
    "    print(new_num)\n",
    "    \n",
    "handle_commas(1,375,567)\n",
    "\n",
    "\n"
   ]
  },
  {
   "cell_type": "code",
   "execution_count": null,
   "id": "c98cc446-8283-46c8-93a7-a90ca11c75af",
   "metadata": {},
   "outputs": [],
   "source": [
    "# 8. Define a function named get_letter_grade. It should accept a number and return the letter grade \n",
    "# associated with that number (A-F)."
   ]
  },
  {
   "cell_type": "code",
   "execution_count": 112,
   "id": "d3422fbe-d5d0-47e1-98ba-611567f81f0f",
   "metadata": {
    "tags": []
   },
   "outputs": [
    {
     "name": "stdout",
     "output_type": "stream",
     "text": [
      "F\n"
     ]
    }
   ],
   "source": [
    "def get_letter_grade(let_grade):\n",
    "    if let_grade >= 88:\n",
    "        print('A')\n",
    "    elif let_grade >= 80: \n",
    "        print('B')\n",
    "    elif let_grade >= 67:\n",
    "        print('C')\n",
    "    elif let_grade >= 60:\n",
    "        print('D')\n",
    "    else:\n",
    "        print('F')\n",
    "    \n",
    "get_letter_grade(50)"
   ]
  },
  {
   "cell_type": "code",
   "execution_count": 126,
   "id": "0e99ce70-26b6-4424-94e0-2d58fdff30d1",
   "metadata": {
    "tags": []
   },
   "outputs": [
    {
     "ename": "NameError",
     "evalue": "name 'string' is not defined",
     "output_type": "error",
     "traceback": [
      "\u001b[0;31m---------------------------------------------------------------------------\u001b[0m",
      "\u001b[0;31mNameError\u001b[0m                                 Traceback (most recent call last)",
      "Cell \u001b[0;32mIn[126], line 9\u001b[0m\n\u001b[1;32m      6\u001b[0m         \u001b[38;5;28;01mif\u001b[39;00m x \u001b[38;5;129;01min\u001b[39;00m vowels:\n\u001b[1;32m      7\u001b[0m           x\u001b[38;5;241m.\u001b[39mreplace(\u001b[38;5;124m'\u001b[39m\u001b[38;5;124m'\u001b[39m)\n\u001b[0;32m----> 9\u001b[0m remove_vowels(\u001b[38;5;124m'\u001b[39m\u001b[38;5;124minside\u001b[39m\u001b[38;5;124m'\u001b[39m)\n",
      "Cell \u001b[0;32mIn[126], line 5\u001b[0m, in \u001b[0;36mremove_vowels\u001b[0;34m(x)\u001b[0m\n\u001b[1;32m      3\u001b[0m \u001b[38;5;28;01mdef\u001b[39;00m \u001b[38;5;21mremove_vowels\u001b[39m(x):\n\u001b[1;32m      4\u001b[0m     vowels \u001b[38;5;241m=\u001b[39m [\u001b[38;5;124m'\u001b[39m\u001b[38;5;124mA\u001b[39m\u001b[38;5;124m'\u001b[39m,\u001b[38;5;124m'\u001b[39m\u001b[38;5;124mE\u001b[39m\u001b[38;5;124m'\u001b[39m,\u001b[38;5;124m'\u001b[39m\u001b[38;5;124mI\u001b[39m\u001b[38;5;124m'\u001b[39m,\u001b[38;5;124m'\u001b[39m\u001b[38;5;124mO\u001b[39m\u001b[38;5;124m'\u001b[39m,\u001b[38;5;124m'\u001b[39m\u001b[38;5;124mU\u001b[39m\u001b[38;5;124m'\u001b[39m,\u001b[38;5;124m'\u001b[39m\u001b[38;5;124ma\u001b[39m\u001b[38;5;124m'\u001b[39m,\u001b[38;5;124m'\u001b[39m\u001b[38;5;124me\u001b[39m\u001b[38;5;124m'\u001b[39m,\u001b[38;5;124m'\u001b[39m\u001b[38;5;124mi\u001b[39m\u001b[38;5;124m'\u001b[39m,\u001b[38;5;124m'\u001b[39m\u001b[38;5;124mo\u001b[39m\u001b[38;5;124m'\u001b[39m,\u001b[38;5;124m'\u001b[39m\u001b[38;5;124mu\u001b[39m\u001b[38;5;124m'\u001b[39m]\n\u001b[0;32m----> 5\u001b[0m     \u001b[38;5;28;01mfor\u001b[39;00m x \u001b[38;5;129;01min\u001b[39;00m \u001b[38;5;28mrange\u001b[39m(\u001b[38;5;28mlen\u001b[39m(string)):\n\u001b[1;32m      6\u001b[0m         \u001b[38;5;28;01mif\u001b[39;00m x \u001b[38;5;129;01min\u001b[39;00m vowels:\n\u001b[1;32m      7\u001b[0m           x\u001b[38;5;241m.\u001b[39mreplace(\u001b[38;5;124m'\u001b[39m\u001b[38;5;124m'\u001b[39m)\n",
      "\u001b[0;31mNameError\u001b[0m: name 'string' is not defined"
     ]
    }
   ],
   "source": [
    "# 9. Define a function named remove_vowels that accepts a string and returns a string with all the vowels removed.\n",
    "\n",
    "def remove_vowels(x):\n",
    "    vowels = ['A','E','I','O','U','a','e','i','o','u']\n",
    "    for x in range(len(string)):\n",
    "        if x in vowels:\n",
    "          x.replace('')\n",
    "    \n",
    "remove_vowels('inside')"
   ]
  },
  {
   "cell_type": "code",
   "execution_count": 66,
   "id": "03af4f23-2fc6-48a0-8b54-54f6f1563a06",
   "metadata": {
    "tags": []
   },
   "outputs": [],
   "source": [
    "# 10. Define a function named normalize_name. It should accept a string and return a valid python identifier, \n",
    "# that is:\n",
    "    # anything that is not a valid python identifier should be removed\n",
    "    # leading and trailing whitespace should be removed\n",
    "    # everything should be lowercase\n",
    "    # spaces should be replaced with underscores\n",
    "    # for example:\n",
    "        # Name will become name\n",
    "        # First Name will become first_name\n",
    "# % Completed will become completed"
   ]
  },
  {
   "cell_type": "code",
   "execution_count": null,
   "id": "df515e65-2ee1-4f7f-afd9-7b195fd0c5d3",
   "metadata": {},
   "outputs": [],
   "source": []
  },
  {
   "cell_type": "code",
   "execution_count": null,
   "id": "dc51de12-7cb2-4438-beb8-b917a4d2039b",
   "metadata": {},
   "outputs": [],
   "source": [
    "# 11. Write a function named cumulative_sum that accepts a list of numbers and returns a list that is the \n",
    "# cumulative sum of the numbers in the list.\n",
    "    # cumulative_sum([1, 1, 1]) returns [1, 2, 3]\n",
    "    # cumulative_sum([1, 2, 3, 4]) returns [1, 3, 6, 10]\n"
   ]
  },
  {
   "cell_type": "code",
   "execution_count": null,
   "id": "a4abe041-25ce-4164-ac3c-98ab8fae29c7",
   "metadata": {},
   "outputs": [],
   "source": []
  }
 ],
 "metadata": {
  "kernelspec": {
   "display_name": "Python 3 (ipykernel)",
   "language": "python",
   "name": "python3"
  },
  "language_info": {
   "codemirror_mode": {
    "name": "ipython",
    "version": 3
   },
   "file_extension": ".py",
   "mimetype": "text/x-python",
   "name": "python",
   "nbconvert_exporter": "python",
   "pygments_lexer": "ipython3",
   "version": "3.11.4"
  }
 },
 "nbformat": 4,
 "nbformat_minor": 5
}
