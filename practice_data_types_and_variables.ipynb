{
 "cells": [
  {
   "cell_type": "code",
   "execution_count": 40,
   "id": "5befbffc-bdc4-4863-a100-6e61e2503fd1",
   "metadata": {
    "tags": []
   },
   "outputs": [
    {
     "data": {
      "text/plain": [
       "float"
      ]
     },
     "execution_count": 40,
     "metadata": {},
     "output_type": "execute_result"
    }
   ],
   "source": [
    "# 1. Identify the data type of the following values:\n",
    "type(99.9)"
   ]
  },
  {
   "cell_type": "code",
   "execution_count": 41,
   "id": "14ee8ea5-a956-4975-b7ff-6c915a5227d7",
   "metadata": {
    "tags": []
   },
   "outputs": [
    {
     "data": {
      "text/plain": [
       "str"
      ]
     },
     "execution_count": 41,
     "metadata": {},
     "output_type": "execute_result"
    }
   ],
   "source": [
    "type(\"False\")"
   ]
  },
  {
   "cell_type": "code",
   "execution_count": 42,
   "id": "a2c2694b-1545-4c52-a3e9-353227b90a21",
   "metadata": {
    "tags": []
   },
   "outputs": [
    {
     "data": {
      "text/plain": [
       "bool"
      ]
     },
     "execution_count": 42,
     "metadata": {},
     "output_type": "execute_result"
    }
   ],
   "source": [
    "type(False)"
   ]
  },
  {
   "cell_type": "code",
   "execution_count": 43,
   "id": "b03e4e2a-df77-46a1-9556-9545044f55f9",
   "metadata": {
    "tags": []
   },
   "outputs": [
    {
     "data": {
      "text/plain": [
       "str"
      ]
     },
     "execution_count": 43,
     "metadata": {},
     "output_type": "execute_result"
    }
   ],
   "source": [
    "type('0')"
   ]
  },
  {
   "cell_type": "code",
   "execution_count": 44,
   "id": "67c338b1-814c-411b-9f2f-e2eb7c434a54",
   "metadata": {
    "tags": []
   },
   "outputs": [
    {
     "data": {
      "text/plain": [
       "int"
      ]
     },
     "execution_count": 44,
     "metadata": {},
     "output_type": "execute_result"
    }
   ],
   "source": [
    "type(0)"
   ]
  },
  {
   "cell_type": "code",
   "execution_count": 45,
   "id": "afe65324-946e-453b-8fbd-a54962591117",
   "metadata": {
    "tags": []
   },
   "outputs": [
    {
     "data": {
      "text/plain": [
       "bool"
      ]
     },
     "execution_count": 45,
     "metadata": {},
     "output_type": "execute_result"
    }
   ],
   "source": [
    "type(True\n",
    ")"
   ]
  },
  {
   "cell_type": "code",
   "execution_count": 46,
   "id": "65c5830e-6236-4d4c-84dd-3258d094d377",
   "metadata": {
    "tags": []
   },
   "outputs": [
    {
     "data": {
      "text/plain": [
       "str"
      ]
     },
     "execution_count": 46,
     "metadata": {},
     "output_type": "execute_result"
    }
   ],
   "source": [
    "type('True'\n",
    ")"
   ]
  },
  {
   "cell_type": "code",
   "execution_count": 47,
   "id": "0f953557-2d04-407f-9281-913a389ca175",
   "metadata": {
    "tags": []
   },
   "outputs": [
    {
     "data": {
      "text/plain": [
       "list"
      ]
     },
     "execution_count": 47,
     "metadata": {},
     "output_type": "execute_result"
    }
   ],
   "source": [
    "type([{}]\n",
    ")"
   ]
  },
  {
   "cell_type": "code",
   "execution_count": 48,
   "id": "0eac8a6b-bbf2-4da5-82c5-50352fce7631",
   "metadata": {
    "tags": []
   },
   "outputs": [
    {
     "data": {
      "text/plain": [
       "dict"
      ]
     },
     "execution_count": 48,
     "metadata": {},
     "output_type": "execute_result"
    }
   ],
   "source": [
    "type({'a': []}\n",
    ")"
   ]
  },
  {
   "cell_type": "code",
   "execution_count": null,
   "id": "59aecb8b-344f-4475-9cf7-6c298d81a606",
   "metadata": {},
   "outputs": [],
   "source": []
  },
  {
   "cell_type": "code",
   "execution_count": null,
   "id": "985d6fb3-e749-4c1a-aff2-bfc9f4bee550",
   "metadata": {},
   "outputs": [],
   "source": [
    "#What data type would best represent the following?\n",
    "# A term or phrase typed into a search box\n",
    "# string"
   ]
  },
  {
   "cell_type": "code",
   "execution_count": null,
   "id": "fe4753c2-75e0-4aa9-9b19-a29cd8b9c1ef",
   "metadata": {},
   "outputs": [],
   "source": [
    "# Whether or not a user is logged in\n",
    "# boolean"
   ]
  },
  {
   "cell_type": "code",
   "execution_count": null,
   "id": "326bc1ec-d306-4fed-ba57-0a9bc5e78275",
   "metadata": {},
   "outputs": [],
   "source": [
    "# A discount amount to apply to a user's shopping cart\n",
    "# float"
   ]
  },
  {
   "cell_type": "code",
   "execution_count": null,
   "id": "e04f862e-71f0-4438-b98b-d0ec6bc49e0f",
   "metadata": {},
   "outputs": [],
   "source": [
    "# Whether or not a coupon code is valid\n",
    "# boolean"
   ]
  },
  {
   "cell_type": "code",
   "execution_count": null,
   "id": "fb9177fe-b7b6-46d9-a224-2b9d28095e46",
   "metadata": {},
   "outputs": [],
   "source": [
    "# An email address typed into a registration form\n",
    "# string"
   ]
  },
  {
   "cell_type": "code",
   "execution_count": null,
   "id": "9f641493-bd4b-41f2-97b8-86314efb2bb9",
   "metadata": {},
   "outputs": [],
   "source": [
    "# The price of a product\n",
    "# float"
   ]
  },
  {
   "cell_type": "code",
   "execution_count": null,
   "id": "2659009a-35e6-4f7f-ab64-e1c6241569bb",
   "metadata": {},
   "outputs": [],
   "source": [
    "# The email addresses collected from a registration form\n",
    "# list"
   ]
  },
  {
   "cell_type": "code",
   "execution_count": null,
   "id": "56c3c205-d336-42bd-ada0-c21a4673a45a",
   "metadata": {},
   "outputs": [],
   "source": [
    "# Information about applicants to Codeup's data science program\n",
    "# dictionary"
   ]
  },
  {
   "cell_type": "code",
   "execution_count": null,
   "id": "ca3b08e6-edbd-4e4c-af2b-3570b03fae3b",
   "metadata": {},
   "outputs": [],
   "source": []
  },
  {
   "cell_type": "code",
   "execution_count": 50,
   "id": "1a928b88-10f3-44e0-b4eb-8af3b6c5c5e6",
   "metadata": {
    "tags": []
   },
   "outputs": [
    {
     "name": "stdout",
     "output_type": "stream",
     "text": [
      "27\n"
     ]
    }
   ],
   "source": [
    "#4. You have rented some movies for your kids:\n",
    "# If the daily fee to rent a movie is 3 dollars, how much will you have to pay?\n",
    "The_Little_Mermaid = 3\n",
    "Brother_Bear = 5\n",
    "Hercules = 1\n",
    "print((The_Little_Mermaid + Brother_Bear + Hercules) * 3)"
   ]
  },
  {
   "cell_type": "code",
   "execution_count": 51,
   "id": "e780b151-14a2-411c-80a5-6358f3e88d7f",
   "metadata": {
    "tags": []
   },
   "outputs": [
    {
     "name": "stdout",
     "output_type": "stream",
     "text": [
      "7420\n"
     ]
    }
   ],
   "source": [
    "#5. Suppose you're working as a contractor for 3 companies: Google, Amazon and Facebook.\n",
    "# They pay you the following hourly rates:\n",
    "# This week you worked: 10 hours for Facebook, 6 hours for Google and 4 hours for Amazon.\n",
    "# How much will you receive in payment for this week?\n",
    "Google = 400\n",
    "Amazon = 380\n",
    "Facebook = 350\n",
    "print((Google * 6) + (Amazon * 4) + (Facebook * 10))"
   ]
  },
  {
   "cell_type": "code",
   "execution_count": 52,
   "id": "4cc27d22-18d0-43d5-9b49-6553a15eba87",
   "metadata": {
    "tags": []
   },
   "outputs": [
    {
     "data": {
      "text/plain": [
       "True"
      ]
     },
     "execution_count": 52,
     "metadata": {},
     "output_type": "execute_result"
    }
   ],
   "source": [
    "# 6. A student can be enrolled to a class only if the class is not full and the class schedule \n",
    "# does not conflict with her current schedule.\n",
    "class_not_full = True\n",
    "class_schedule_no_conflict = True\n",
    "\n",
    "class_not_full and class_schedule_no_conflict"
   ]
  },
  {
   "cell_type": "code",
   "execution_count": 53,
   "id": "c294270e-c873-414c-918b-ae8aeecedf62",
   "metadata": {
    "tags": []
   },
   "outputs": [
    {
     "data": {
      "text/plain": [
       "True"
      ]
     },
     "execution_count": 53,
     "metadata": {},
     "output_type": "execute_result"
    }
   ],
   "source": [
    "# 7. A product offer can be applied only if people buys more than 2 items, and the offer has not expired. \n",
    "# Premium members do not need to buy a specific amount of products.\n",
    "buy_more_than_2 = True\n",
    "offer_not_expire = True\n",
    "premium_member = True\n",
    "(buy_more_than_2 or offer_not_expire) and premium_member"
   ]
  },
  {
   "cell_type": "code",
   "execution_count": 54,
   "id": "4f7c0b94-8984-465d-8500-a13d3efed9b2",
   "metadata": {
    "tags": []
   },
   "outputs": [
    {
     "data": {
      "text/plain": [
       "True"
      ]
     },
     "execution_count": 54,
     "metadata": {},
     "output_type": "execute_result"
    }
   ],
   "source": [
    "# 8. Use the following code to follow the instructions below\n",
    "# Create a variable that holds a boolean value for each of the following conditions:\n",
    "# The password must be at least 5 characters\n",
    "# The username must be no more than 20 characters\n",
    "# The password must not be the same as the username\n",
    "# Bonus Neither the username or password can start or end with whitespace\n",
    "username = 'codeup'\n",
    "password = 'notastrongpassword'\n",
    "min_password_len = len(password) >= 5 \n",
    "max_username_len = len(username) <= 20\n",
    "unique_creds = password != username\n",
    "min_password_len and max_username_len and unique_creds"
   ]
  }
 ],
 "metadata": {
  "kernelspec": {
   "display_name": "Python 3 (ipykernel)",
   "language": "python",
   "name": "python3"
  },
  "language_info": {
   "codemirror_mode": {
    "name": "ipython",
    "version": 3
   },
   "file_extension": ".py",
   "mimetype": "text/x-python",
   "name": "python",
   "nbconvert_exporter": "python",
   "pygments_lexer": "ipython3",
   "version": "3.11.4"
  }
 },
 "nbformat": 4,
 "nbformat_minor": 5
}
