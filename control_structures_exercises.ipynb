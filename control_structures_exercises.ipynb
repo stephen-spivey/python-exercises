{
 "cells": [
  {
   "cell_type": "code",
   "execution_count": 1,
   "id": "967e4493",
   "metadata": {},
   "outputs": [
    {
     "name": "stdout",
     "output_type": "stream",
     "text": [
      "Conditional Basics\n"
     ]
    }
   ],
   "source": [
    "print('Conditional Basics')"
   ]
  },
  {
   "cell_type": "code",
   "execution_count": 33,
   "id": "d035ef1c",
   "metadata": {},
   "outputs": [
    {
     "name": "stdin",
     "output_type": "stream",
     "text": [
      "Enter the day of the week:  tuesday\n"
     ]
    },
    {
     "name": "stdout",
     "output_type": "stream",
     "text": [
      "Today is not Monday\n"
     ]
    }
   ],
   "source": [
    "# Prompt the user for a day of the week, print out whether the day is Monday or not\n",
    "\n",
    "day_of_week = input('Enter the day of the week: ')\n",
    "day_of_week = day_of_week.lower()\n",
    "if day_of_week == 'Monday' or day_of_week == 'monday':\n",
    "    print('Today is Monday')\n",
    "else:\n",
    "    print('Today is not Monday')"
   ]
  },
  {
   "cell_type": "code",
   "execution_count": 40,
   "id": "7bb8016d",
   "metadata": {},
   "outputs": [
    {
     "name": "stdin",
     "output_type": "stream",
     "text": [
      "Enter the day of the week:  friday\n"
     ]
    },
    {
     "name": "stdout",
     "output_type": "stream",
     "text": [
      "Today is a weekday.\n"
     ]
    }
   ],
   "source": [
    "# Prompt the user for a day of the week, print out whether the day is a weekday or a weekend\n",
    "\n",
    "day_of_week = input('Enter the day of the week: ')\n",
    "day_of_week = day_of_week.lower()\n",
    "if day_of_week in ('saturday','sunday'):\n",
    "    print('Today is a weekend.')\n",
    "else:\n",
    "    print('Today is a weekday.')"
   ]
  },
  {
   "cell_type": "code",
   "execution_count": 31,
   "id": "1890de8e",
   "metadata": {},
   "outputs": [
    {
     "name": "stdout",
     "output_type": "stream",
     "text": [
      "13000.0\n"
     ]
    }
   ],
   "source": [
    "# Calculate a weekly paycheck, accounting for overtime pay. Create variables and make up values for:\n",
    "\n",
    "# The number of hours worked in one week\n",
    "# The hourly rate\n",
    "# For calculating pay:\n",
    "\n",
    "# For working 40 hours or less, each hour is paid at the hourly rate\n",
    "# For working more than 40 hours\n",
    "\n",
    "# the first 40 hours are paid at the hourly rate\n",
    "\n",
    "# each hour after 40 is paid at time and a half (hourly rate * 1.5)\n",
    "\n",
    "hours_worked = 50\n",
    "hourly_rate = 200\n",
    "total_pay = hours_worked * hourly_rate\n",
    "\n",
    "if hours_worked <= 40:\n",
    "    print(total_pay)\n",
    "elif hours_worked > 40:\n",
    "    overtime_pay = total_pay + ((hours_worked - 40) * (hourly_rate * 1.5))\n",
    "    print(overtime_pay)\n"
   ]
  },
  {
   "cell_type": "code",
   "execution_count": null,
   "id": "5d169b1f",
   "metadata": {},
   "outputs": [],
   "source": [
    "print('Loop Basics')"
   ]
  },
  {
   "cell_type": "code",
   "execution_count": 11,
   "id": "697ce86f",
   "metadata": {},
   "outputs": [
    {
     "name": "stdout",
     "output_type": "stream",
     "text": [
      "5\n",
      "6\n",
      "7\n",
      "8\n",
      "9\n",
      "10\n",
      "11\n",
      "12\n",
      "13\n",
      "14\n",
      "15\n"
     ]
    }
   ],
   "source": [
    "# Create an integer variable i with a value of 5. Create a while loop that runs so long as i is less than \n",
    "#or equal to 15. Each loop iteration, output the current value of i, then increment i by one.\n",
    "\n",
    "# Your output should look like this:\n",
    "i = 5\n",
    "while i <= 15:\n",
    "    print(i)\n",
    "    i += 1  #this just adds 1 to i and saves it"
   ]
  },
  {
   "cell_type": "code",
   "execution_count": 12,
   "id": "054120e7",
   "metadata": {},
   "outputs": [
    {
     "name": "stdout",
     "output_type": "stream",
     "text": [
      "0\n",
      "2\n",
      "4\n",
      "6\n",
      "8\n",
      "10\n",
      "12\n",
      "14\n",
      "16\n",
      "18\n",
      "20\n",
      "22\n",
      "24\n",
      "26\n",
      "28\n",
      "30\n",
      "32\n",
      "34\n",
      "36\n",
      "38\n",
      "40\n",
      "42\n",
      "44\n",
      "46\n",
      "48\n",
      "50\n",
      "52\n",
      "54\n",
      "56\n",
      "58\n",
      "60\n",
      "62\n",
      "64\n",
      "66\n",
      "68\n",
      "70\n",
      "72\n",
      "74\n",
      "76\n",
      "78\n",
      "80\n",
      "82\n",
      "84\n",
      "86\n",
      "88\n",
      "90\n",
      "92\n",
      "94\n",
      "96\n",
      "98\n",
      "100\n"
     ]
    }
   ],
   "source": [
    "# Create a while loop that will count by 2's starting with 0 and ending at 100. Follow each number with a new line.\n",
    "i = 0\n",
    "while i <= 100:\n",
    "    print(i)\n",
    "    i += 2"
   ]
  },
  {
   "cell_type": "code",
   "execution_count": 44,
   "id": "1dba5f0a",
   "metadata": {},
   "outputs": [
    {
     "name": "stdout",
     "output_type": "stream",
     "text": [
      "2\n",
      "4\n",
      "16\n",
      "256\n",
      "65536\n"
     ]
    }
   ],
   "source": [
    "# Create a while loop that starts at 2, and displays the number squared on each line while the number is \n",
    "# less than 1,000,000. Output should equal:\n",
    "\n",
    "i = 2\n",
    "while i < 1_000_000:    #use underscores to mimic commas when writing numbers\n",
    "    print(i)\n",
    "    i = i*i    #don't forget to increment your i value\n"
   ]
  },
  {
   "cell_type": "code",
   "execution_count": 46,
   "id": "82ced269",
   "metadata": {},
   "outputs": [
    {
     "name": "stdout",
     "output_type": "stream",
     "text": [
      "100\n",
      "95\n",
      "90\n",
      "85\n",
      "80\n",
      "75\n",
      "70\n",
      "65\n",
      "60\n",
      "55\n",
      "50\n",
      "45\n",
      "40\n",
      "35\n",
      "30\n",
      "25\n",
      "20\n",
      "15\n",
      "10\n",
      "5\n"
     ]
    }
   ],
   "source": [
    "# Write a while loop that uses print to create the output shown below.\n",
    "i = 100\n",
    "while i >= 5:\n",
    "    print(i)\n",
    "    i -= 5"
   ]
  },
  {
   "cell_type": "code",
   "execution_count": 15,
   "id": "8684e0a4",
   "metadata": {},
   "outputs": [
    {
     "name": "stdout",
     "output_type": "stream",
     "text": [
      "For Loops\n"
     ]
    }
   ],
   "source": [
    "print('For Loops')"
   ]
  },
  {
   "cell_type": "code",
   "execution_count": 47,
   "id": "9f47001a",
   "metadata": {},
   "outputs": [
    {
     "name": "stdin",
     "output_type": "stream",
     "text": [
      "Enter a number: 7\n"
     ]
    },
    {
     "name": "stdout",
     "output_type": "stream",
     "text": [
      "7\n",
      "14\n",
      "21\n",
      "28\n",
      "35\n",
      "42\n",
      "49\n",
      "56\n",
      "63\n",
      "70\n"
     ]
    }
   ],
   "source": [
    "# Write some code using a for loop that prompts the user for a number, then shows a multiplication table \n",
    "# up through 10 for that number.\n",
    "\n",
    "# For example, if the user enters 7, your program should output:\n",
    "\n",
    "i = int(input(\"Enter a number:\"))    # cast it as an int\n",
    "for number in range(1, 11):\n",
    "    print(i * number)\n"
   ]
  },
  {
   "cell_type": "code",
   "execution_count": 77,
   "id": "e2a3d12b-7dc0-4b49-8ab1-9ae32948e77d",
   "metadata": {
    "tags": []
   },
   "outputs": [
    {
     "name": "stdout",
     "output_type": "stream",
     "text": [
      "1\n",
      "22\n",
      "333\n",
      "4444\n",
      "55555\n",
      "666666\n",
      "7777777\n",
      "88888888\n",
      "999999999\n"
     ]
    }
   ],
   "source": [
    "# Create a for loop that uses print to create the output shown below.\n",
    "\n",
    "for i in range(1,10):\n",
    " #   print(i)\n",
    "    print(str(i) * i)      #cast one i in a string to get them to repeat"
   ]
  },
  {
   "cell_type": "code",
   "execution_count": 61,
   "id": "c3925c4d",
   "metadata": {},
   "outputs": [
    {
     "name": "stdin",
     "output_type": "stream",
     "text": [
      "Enter a number: 13\n"
     ]
    },
    {
     "name": "stdout",
     "output_type": "stream",
     "text": [
      "13\n",
      "12\n",
      "11\n",
      "10\n",
      "9\n",
      "8\n",
      "7\n",
      "6\n",
      "5\n",
      "4\n",
      "3\n",
      "2\n",
      "1\n"
     ]
    }
   ],
   "source": [
    "# break and continue\n",
    "\n",
    "# Write a program that prompts the user for a positive integer. Next write a loop that prints out the numbers \n",
    "# from the number the user entered down to 1.\n",
    "\n",
    "\n",
    "\n",
    "user_input = int(input(\"Enter a number:\"))\n",
    "for i in range(user_input,1,-1):\n",
    "    if i > 0:\n",
    "        print(i)"
   ]
  },
  {
   "cell_type": "code",
   "execution_count": 2,
   "id": "d56d2c67-5fc2-4133-8b63-2d968568ad82",
   "metadata": {},
   "outputs": [
    {
     "name": "stdin",
     "output_type": "stream",
     "text": [
      "Enter a positive number: 10\n"
     ]
    },
    {
     "name": "stdout",
     "output_type": "stream",
     "text": [
      "1\n",
      "2\n",
      "3\n",
      "4\n",
      "5\n",
      "6\n",
      "7\n",
      "8\n",
      "9\n",
      "10\n"
     ]
    }
   ],
   "source": [
    "# The input function can be used to prompt for input and use that input in your python code. Prompt the user \n",
    "# to enter a positive number and write a loop that counts from 0 to that number. \n",
    "# (Hints: note that the input function returns a string, so you'll need to convert this to a numeric type.)\n",
    "\n",
    "\n",
    "user_input = int(input(\"Enter a positive number:\"))\n",
    "for i in range(0,(user_input + 1),1):\n",
    "    if i > 0:\n",
    "        print(i)\n"
   ]
  },
  {
   "cell_type": "code",
   "execution_count": 58,
   "id": "07123053-ea6b-4c16-b550-dd8ff3aba53d",
   "metadata": {},
   "outputs": [
    {
     "name": "stdin",
     "output_type": "stream",
     "text": [
      "Enter an odd number between 1 and 50:  0\n"
     ]
    },
    {
     "name": "stdout",
     "output_type": "stream",
     "text": [
      "It's a number!\n",
      "This is invalid.\n"
     ]
    },
    {
     "ename": "KeyboardInterrupt",
     "evalue": "Interrupted by user",
     "output_type": "error",
     "traceback": [
      "\u001b[0;31m---------------------------------------------------------------------------\u001b[0m",
      "\u001b[0;31mKeyboardInterrupt\u001b[0m                         Traceback (most recent call last)",
      "Cell \u001b[0;32mIn[58], line 9\u001b[0m\n\u001b[1;32m      1\u001b[0m \u001b[38;5;66;03m# Prompt the user for an odd number between 1 and 50. Use a loop and a break statement to continue \u001b[39;00m\n\u001b[1;32m      2\u001b[0m \u001b[38;5;66;03m# prompting the user if they enter invalid input. \u001b[39;00m\n\u001b[1;32m      3\u001b[0m \u001b[38;5;66;03m# (Hint: use the isdigit method on strings to determine this). Use a loop and the continue statement to \u001b[39;00m\n\u001b[1;32m      4\u001b[0m \u001b[38;5;66;03m# output all the odd numbers between 1 and 50, except for the number the user entered.\u001b[39;00m\n\u001b[1;32m      5\u001b[0m \n\u001b[1;32m      6\u001b[0m \u001b[38;5;66;03m# Your output should look like this:\u001b[39;00m\n\u001b[1;32m      8\u001b[0m \u001b[38;5;28;01mwhile\u001b[39;00m \u001b[38;5;28;01mTrue\u001b[39;00m:\n\u001b[0;32m----> 9\u001b[0m     user_input \u001b[38;5;241m=\u001b[39m \u001b[38;5;28minput\u001b[39m(\u001b[38;5;124m\"\u001b[39m\u001b[38;5;124mEnter an odd number between 1 and 50: \u001b[39m\u001b[38;5;124m\"\u001b[39m)\n\u001b[1;32m     11\u001b[0m     \u001b[38;5;28;01mif\u001b[39;00m user_input\u001b[38;5;241m.\u001b[39misdigit():\n\u001b[1;32m     12\u001b[0m         \u001b[38;5;28mprint\u001b[39m(\u001b[38;5;124m\"\u001b[39m\u001b[38;5;124mIt\u001b[39m\u001b[38;5;124m'\u001b[39m\u001b[38;5;124ms a number!\u001b[39m\u001b[38;5;124m\"\u001b[39m)\n",
      "File \u001b[0;32m/opt/homebrew/anaconda3/lib/python3.11/site-packages/ipykernel/kernelbase.py:1175\u001b[0m, in \u001b[0;36mKernel.raw_input\u001b[0;34m(self, prompt)\u001b[0m\n\u001b[1;32m   1171\u001b[0m \u001b[38;5;28;01mif\u001b[39;00m \u001b[38;5;129;01mnot\u001b[39;00m \u001b[38;5;28mself\u001b[39m\u001b[38;5;241m.\u001b[39m_allow_stdin:\n\u001b[1;32m   1172\u001b[0m     \u001b[38;5;28;01mraise\u001b[39;00m StdinNotImplementedError(\n\u001b[1;32m   1173\u001b[0m         \u001b[38;5;124m\"\u001b[39m\u001b[38;5;124mraw_input was called, but this frontend does not support input requests.\u001b[39m\u001b[38;5;124m\"\u001b[39m\n\u001b[1;32m   1174\u001b[0m     )\n\u001b[0;32m-> 1175\u001b[0m \u001b[38;5;28;01mreturn\u001b[39;00m \u001b[38;5;28mself\u001b[39m\u001b[38;5;241m.\u001b[39m_input_request(\n\u001b[1;32m   1176\u001b[0m     \u001b[38;5;28mstr\u001b[39m(prompt),\n\u001b[1;32m   1177\u001b[0m     \u001b[38;5;28mself\u001b[39m\u001b[38;5;241m.\u001b[39m_parent_ident[\u001b[38;5;124m\"\u001b[39m\u001b[38;5;124mshell\u001b[39m\u001b[38;5;124m\"\u001b[39m],\n\u001b[1;32m   1178\u001b[0m     \u001b[38;5;28mself\u001b[39m\u001b[38;5;241m.\u001b[39mget_parent(\u001b[38;5;124m\"\u001b[39m\u001b[38;5;124mshell\u001b[39m\u001b[38;5;124m\"\u001b[39m),\n\u001b[1;32m   1179\u001b[0m     password\u001b[38;5;241m=\u001b[39m\u001b[38;5;28;01mFalse\u001b[39;00m,\n\u001b[1;32m   1180\u001b[0m )\n",
      "File \u001b[0;32m/opt/homebrew/anaconda3/lib/python3.11/site-packages/ipykernel/kernelbase.py:1217\u001b[0m, in \u001b[0;36mKernel._input_request\u001b[0;34m(self, prompt, ident, parent, password)\u001b[0m\n\u001b[1;32m   1214\u001b[0m             \u001b[38;5;28;01mbreak\u001b[39;00m\n\u001b[1;32m   1215\u001b[0m \u001b[38;5;28;01mexcept\u001b[39;00m \u001b[38;5;167;01mKeyboardInterrupt\u001b[39;00m:\n\u001b[1;32m   1216\u001b[0m     \u001b[38;5;66;03m# re-raise KeyboardInterrupt, to truncate traceback\u001b[39;00m\n\u001b[0;32m-> 1217\u001b[0m     \u001b[38;5;28;01mraise\u001b[39;00m \u001b[38;5;167;01mKeyboardInterrupt\u001b[39;00m(\u001b[38;5;124m\"\u001b[39m\u001b[38;5;124mInterrupted by user\u001b[39m\u001b[38;5;124m\"\u001b[39m) \u001b[38;5;28;01mfrom\u001b[39;00m \u001b[38;5;28;01mNone\u001b[39;00m\n\u001b[1;32m   1218\u001b[0m \u001b[38;5;28;01mexcept\u001b[39;00m \u001b[38;5;167;01mException\u001b[39;00m:\n\u001b[1;32m   1219\u001b[0m     \u001b[38;5;28mself\u001b[39m\u001b[38;5;241m.\u001b[39mlog\u001b[38;5;241m.\u001b[39mwarning(\u001b[38;5;124m\"\u001b[39m\u001b[38;5;124mInvalid Message:\u001b[39m\u001b[38;5;124m\"\u001b[39m, exc_info\u001b[38;5;241m=\u001b[39m\u001b[38;5;28;01mTrue\u001b[39;00m)\n",
      "\u001b[0;31mKeyboardInterrupt\u001b[0m: Interrupted by user"
     ]
    }
   ],
   "source": [
    "# Prompt the user for an odd number between 1 and 50. Use a loop and a break statement to continue \n",
    "# prompting the user if they enter invalid input. \n",
    "# (Hint: use the isdigit method on strings to determine this). Use a loop and the continue statement to \n",
    "# output all the odd numbers between 1 and 50, except for the number the user entered.\n",
    "\n",
    "# Your output should look like this:\n",
    "\n",
    "# while True:\n",
    "#     user_input = input(\"Enter an odd number between 1 and 50: \")\n",
    "\n",
    "#     if user_input.isdigit():\n",
    "#         print(\"It's a number!\")\n",
    "#         user_input = int(user_input)\n",
    "#         if (user_input > 0) and (user_input <= 50) and (user_input % 2 == 1):\n",
    "#                 print('good input')\n",
    "#                 break\n",
    "#         else:\n",
    "#                 print('This is invalid.')\n",
    "#     else:\n",
    "#         print('This is invalid.')\n",
    "#         user_input = int(input(\"Enter an odd number between 1 and 50: \"))\n",
    "\n",
    "# print()     #printing a blank line\n",
    "# for i in range(1,51,2):\n",
    "#     print(f'Here is an odd number: {i}')\n",
    "\n",
    "\n",
    "\n",
    "\n"
   ]
  },
  {
   "cell_type": "code",
   "execution_count": 61,
   "id": "28eb82f4",
   "metadata": {},
   "outputs": [
    {
     "name": "stdout",
     "output_type": "stream",
     "text": [
      "1\n",
      "2\n",
      "Fizz\n",
      "4\n",
      "Buzz\n",
      "Fizz\n",
      "7\n",
      "8\n",
      "Fizz\n",
      "Buzz\n",
      "11\n",
      "Fizz\n",
      "13\n",
      "14\n",
      "Fizz\n",
      "16\n",
      "17\n",
      "Fizz\n",
      "19\n",
      "Buzz\n",
      "Fizz\n",
      "22\n",
      "23\n",
      "Fizz\n",
      "Buzz\n",
      "26\n",
      "Fizz\n",
      "28\n",
      "29\n",
      "Fizz\n",
      "31\n",
      "32\n",
      "Fizz\n",
      "34\n",
      "Buzz\n",
      "Fizz\n",
      "37\n",
      "38\n",
      "Fizz\n",
      "Buzz\n",
      "41\n",
      "Fizz\n",
      "43\n",
      "44\n",
      "Fizz\n",
      "46\n",
      "47\n",
      "Fizz\n",
      "49\n",
      "Buzz\n",
      "Fizz\n",
      "52\n",
      "53\n",
      "Fizz\n",
      "Buzz\n",
      "56\n",
      "Fizz\n",
      "58\n",
      "59\n",
      "Fizz\n",
      "61\n",
      "62\n",
      "Fizz\n",
      "64\n",
      "Buzz\n",
      "Fizz\n",
      "67\n",
      "68\n",
      "Fizz\n",
      "Buzz\n",
      "71\n",
      "Fizz\n",
      "73\n",
      "74\n",
      "Fizz\n",
      "76\n",
      "77\n",
      "Fizz\n",
      "79\n",
      "Buzz\n",
      "Fizz\n",
      "82\n",
      "83\n",
      "Fizz\n",
      "Buzz\n",
      "86\n",
      "Fizz\n",
      "88\n",
      "89\n",
      "Fizz\n",
      "91\n",
      "92\n",
      "Fizz\n",
      "94\n",
      "Buzz\n",
      "Fizz\n",
      "97\n",
      "98\n",
      "Fizz\n",
      "Buzz\n"
     ]
    }
   ],
   "source": [
    "# Fizzbuzz\n",
    "\n",
    "# One of the most common interview questions for entry-level programmers is the FizzBuzz test. \n",
    "# Developed by Imran Ghory, the test is designed to test basic looping and conditional logic skills.\n",
    "\n",
    "# Write a program that prints the numbers from 1 to 100.\n",
    "#For multiples of three print \"Fizz\" instead of the number\n",
    "#For the multiples of five print \"Buzz\".\n",
    "# For numbers which are multiples of both three and five print \"FizzBuzz\".\n",
    "for i in range(1, 101):\n",
    "    if i % 3 == 0:\n",
    "        print('Fizz')\n",
    "    elif i % 5 == 0:\n",
    "        print('Buzz')\n",
    "    elif i % 3 == 0 and i % 5 == 0:\n",
    "        print('FizzBuzz')\n",
    "    else:\n",
    "          print(i)"
   ]
  },
  {
   "cell_type": "code",
   "execution_count": 64,
   "id": "93223ebc",
   "metadata": {},
   "outputs": [
    {
     "name": "stdin",
     "output_type": "stream",
     "text": [
      "Enter an integer:  6\n"
     ]
    },
    {
     "name": "stdout",
     "output_type": "stream",
     "text": [
      "number. | squared | cubed\n",
      "--------|---------|------\n"
     ]
    },
    {
     "ename": "TypeError",
     "evalue": "can only concatenate str (not \"int\") to str",
     "output_type": "error",
     "traceback": [
      "\u001b[0;31m---------------------------------------------------------------------------\u001b[0m",
      "\u001b[0;31mTypeError\u001b[0m                                 Traceback (most recent call last)",
      "Cell \u001b[0;32mIn[64], line 15\u001b[0m\n\u001b[1;32m     13\u001b[0m \u001b[38;5;28mprint\u001b[39m(\u001b[38;5;124mf\u001b[39m\u001b[38;5;124m'\u001b[39m\u001b[38;5;124mnumber. | squared | cubed\u001b[39m\u001b[38;5;124m'\u001b[39m)\n\u001b[1;32m     14\u001b[0m \u001b[38;5;28mprint\u001b[39m(\u001b[38;5;124mf\u001b[39m\u001b[38;5;124m'\u001b[39m\u001b[38;5;124m--------|---------|------\u001b[39m\u001b[38;5;124m'\u001b[39m)\n\u001b[0;32m---> 15\u001b[0m \u001b[38;5;28;01mfor\u001b[39;00m i \u001b[38;5;129;01min\u001b[39;00m \u001b[38;5;28mrange\u001b[39m(\u001b[38;5;241m1\u001b[39m,numb\u001b[38;5;241m+\u001b[39m\u001b[38;5;241m1\u001b[39m):\n\u001b[1;32m     16\u001b[0m     \u001b[38;5;28mprint\u001b[39m(\u001b[38;5;124mf\u001b[39m\u001b[38;5;124m'\u001b[39m\u001b[38;5;132;01m{\u001b[39;00mi\u001b[38;5;132;01m}\u001b[39;00m\u001b[38;5;124m |\u001b[39m\u001b[38;5;132;01m{\u001b[39;00mi\u001b[38;5;241m*\u001b[39m\u001b[38;5;241m*\u001b[39m\u001b[38;5;241m2\u001b[39m\u001b[38;5;132;01m}\u001b[39;00m\u001b[38;5;124m   |\u001b[39m\u001b[38;5;132;01m{\u001b[39;00mi\u001b[38;5;241m*\u001b[39m\u001b[38;5;241m*\u001b[39m\u001b[38;5;241m3\u001b[39m\u001b[38;5;132;01m}\u001b[39;00m\u001b[38;5;124m'\u001b[39m)\n",
      "\u001b[0;31mTypeError\u001b[0m: can only concatenate str (not \"int\") to str"
     ]
    }
   ],
   "source": [
    "# Display a table of powers.\n",
    "\n",
    "# Prompt the user to enter an integer\n",
    "# Display a table of squares and cubes from 1 to the value entered\n",
    "# Ask if the user wants to continue\n",
    "# Assume that the user will enter valid data\n",
    "# Only continue if the user agrees to\n",
    "\n",
    "# Example Output\n",
    "\n",
    "numb = input('Enter an integer: ')\n",
    "\n",
    "print(f'number. | squared | cubed')\n",
    "print(f'--------|---------|------')\n",
    "for i in range(1,numb+1):\n",
    "    print(f'{i} |{i**2}   |{i**3}')"
   ]
  },
  {
   "cell_type": "code",
   "execution_count": 66,
   "id": "70f989d9",
   "metadata": {},
   "outputs": [
    {
     "name": "stdin",
     "output_type": "stream",
     "text": [
      "Enter a grade integer:  93\n"
     ]
    },
    {
     "name": "stdout",
     "output_type": "stream",
     "text": [
      "A\n"
     ]
    }
   ],
   "source": [
    "# Convert given number grades into letter grades.\n",
    "\n",
    "# Prompt the user for a numerical grade from 0 to 100\n",
    "# Display the corresponding letter grade\n",
    "# Prompt the user to continue\n",
    "# Assume that the user will enter valid integers for the grades\n",
    "# The application should only continue if the user agrees to\n",
    "# Grade Ranges:\n",
    "\n",
    "# A : 100 - 88\n",
    "# B : 87 - 80\n",
    "# C : 79 - 67\n",
    "# D : 66 - 60\n",
    "# F : 59 - 0\n",
    "\n",
    "grade = int(input('Enter a grade integer: '))\n",
    "if grade >= 88:\n",
    "    print('A')\n",
    "elif grade >= 80: \n",
    "    print('B')\n",
    "elif grade >= 67:\n",
    "    print('C')\n",
    "elif grade >= 60:\n",
    "    print('D')\n",
    "else:\n",
    "    print('F')"
   ]
  },
  {
   "cell_type": "code",
   "execution_count": 73,
   "id": "93536c2b",
   "metadata": {},
   "outputs": [
    {
     "name": "stdout",
     "output_type": "stream",
     "text": [
      "fantasy\n",
      "fantasy\n",
      "fiction\n"
     ]
    }
   ],
   "source": [
    "# Create a list of dictionaries where each dictionary represents a book that you have read. \n",
    "# Each dictionary in the list should have the keys title, author, and genre. Loop through the list \n",
    "# and print out information about each book.\n",
    "\n",
    "# Prompt the user to enter a genre, then loop through your books list and print out the titles of \n",
    "# all the books in that genre.\n",
    "\n",
    "books = [\n",
    "    {'title':'harry potter','author':'jk rowling', 'genre':'fantasy'},\n",
    "    {'title':'harry potter 2','author':'jk rowling', 'genre':'fantasy'},\n",
    "    {'title':'1984','author':'geoge orwell', 'genre':'fiction'}\n",
    "]\n",
    "\n",
    "genre+input = input('Enter a genre: ')\n",
    "\n",
    "for book in books:\n",
    "    print(book['genre'])\n",
    "    \n"
   ]
  },
  {
   "cell_type": "code",
   "execution_count": null,
   "id": "84cb0691-ccfc-402e-8731-5719608f52b9",
   "metadata": {},
   "outputs": [],
   "source": []
  }
 ],
 "metadata": {
  "kernelspec": {
   "display_name": "Python 3 (ipykernel)",
   "language": "python",
   "name": "python3"
  },
  "language_info": {
   "codemirror_mode": {
    "name": "ipython",
    "version": 3
   },
   "file_extension": ".py",
   "mimetype": "text/x-python",
   "name": "python",
   "nbconvert_exporter": "python",
   "pygments_lexer": "ipython3",
   "version": "3.11.4"
  }
 },
 "nbformat": 4,
 "nbformat_minor": 5
}
